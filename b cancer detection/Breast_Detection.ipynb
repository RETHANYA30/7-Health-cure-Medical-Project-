{
  "nbformat": 4,
  "nbformat_minor": 0,
  "metadata": {
    "colab": {
      "provenance": []
    },
    "kernelspec": {
      "name": "python3",
      "display_name": "Python 3"
    },
    "language_info": {
      "name": "python"
    }
  },
  "cells": [
    {
      "cell_type": "code",
      "execution_count": null,
      "metadata": {
        "id": "BqFaOnqsOT4k"
      },
      "outputs": [],
      "source": [
        "# Check Python Version\n",
        "import sys\n",
        "import scipy\n",
        "import numpy\n",
        "import matplotlib\n",
        "import pandas\n",
        "import sklearn\n"
      ]
    },
    {
      "cell_type": "code",
      "source": [
        "import numpy as np\n",
        "from sklearn import preprocessing\n",
        "from sklearn.model_selection import train_test_split\n",
        "from sklearn.neighbors import KNeighborsClassifier\n",
        "from sklearn.svm import SVC\n",
        "from sklearn import model_selection\n",
        "from sklearn.metrics import classification_report\n",
        "from sklearn.metrics import accuracy_score\n",
        "from pandas.plotting import scatter_matrix\n",
        "import matplotlib.pyplot as plt\n",
        "import pandas as pd"
      ],
      "metadata": {
        "id": "AcetzN5MQy6X"
      },
      "execution_count": null,
      "outputs": []
    },
    {
      "cell_type": "code",
      "source": [
        "from google.colab import drive\n",
        "drive.mount('/content/drive')"
      ],
      "metadata": {
        "colab": {
          "base_uri": "https://localhost:8080/"
        },
        "id": "ULDOX078Q2Gr",
        "outputId": "272353b1-f2da-4e83-f998-2562b19f1eb0"
      },
      "execution_count": null,
      "outputs": [
        {
          "output_type": "stream",
          "name": "stdout",
          "text": [
            "Mounted at /content/drive\n"
          ]
        }
      ]
    },
    {
      "cell_type": "code",
      "source": [
        "df = pd.read_csv('/content/drive/MyDrive/cancer.csv')"
      ],
      "metadata": {
        "id": "COR-X2wETxtP"
      },
      "execution_count": null,
      "outputs": []
    },
    {
      "cell_type": "code",
      "source": [
        "# Let explore the dataset and do a few visualizations\n",
        "print(df.loc[10])\n",
        "\n",
        "# Print the shape of the dataset\n",
        "print(df.shape)"
      ],
      "metadata": {
        "colab": {
          "base_uri": "https://localhost:8080/"
        },
        "id": "7272KIV0UHbA",
        "outputId": "515241a4-d190-4ce5-abc2-b72aabc76c0d"
      },
      "execution_count": null,
      "outputs": [
        {
          "output_type": "stream",
          "name": "stdout",
          "text": [
            "id                        1035283\n",
            "clump_thickness                 1\n",
            "unif_cell_size                  1\n",
            "unif_cell_shape                 1\n",
            "marg_adhesion                   1\n",
            "single_epith_cell_size          1\n",
            "bare_nuclei                     1\n",
            "bland_chrom                     3\n",
            "norm_nucleoli                   1\n",
            "mitoses                         1\n",
            "classes                         0\n",
            "Name: 10, dtype: object\n",
            "(699, 11)\n"
          ]
        }
      ]
    },
    {
      "cell_type": "code",
      "source": [
        "# Describe the dataset\n",
        "print(df.describe())"
      ],
      "metadata": {
        "colab": {
          "base_uri": "https://localhost:8080/"
        },
        "id": "MAokmux7UNUe",
        "outputId": "63831127-2be2-4d84-b712-41921e8b1c86"
      },
      "execution_count": null,
      "outputs": [
        {
          "output_type": "stream",
          "name": "stdout",
          "text": [
            "                 id  clump_thickness  unif_cell_size  unif_cell_shape  \\\n",
            "count  6.990000e+02       699.000000      699.000000       699.000000   \n",
            "mean   1.071704e+06         4.417740        3.134478         3.207439   \n",
            "std    6.170957e+05         2.815741        3.051459         2.971913   \n",
            "min    6.163400e+04         1.000000        1.000000         1.000000   \n",
            "25%    8.706885e+05         2.000000        1.000000         1.000000   \n",
            "50%    1.171710e+06         4.000000        1.000000         1.000000   \n",
            "75%    1.238298e+06         6.000000        5.000000         5.000000   \n",
            "max    1.345435e+07        10.000000       10.000000        10.000000   \n",
            "\n",
            "       marg_adhesion  single_epith_cell_size  bland_chrom  norm_nucleoli  \\\n",
            "count     699.000000              699.000000   699.000000     699.000000   \n",
            "mean        2.806867                3.216023     3.437768       2.866953   \n",
            "std         2.855379                2.214300     2.438364       3.053634   \n",
            "min         1.000000                1.000000     1.000000       1.000000   \n",
            "25%         1.000000                2.000000     2.000000       1.000000   \n",
            "50%         1.000000                2.000000     3.000000       1.000000   \n",
            "75%         4.000000                4.000000     5.000000       4.000000   \n",
            "max        10.000000               10.000000    10.000000      10.000000   \n",
            "\n",
            "          mitoses     classes  \n",
            "count  699.000000  699.000000  \n",
            "mean     1.589413    0.344778  \n",
            "std      1.715078    0.475636  \n",
            "min      1.000000    0.000000  \n",
            "25%      1.000000    0.000000  \n",
            "50%      1.000000    0.000000  \n",
            "75%      1.000000    1.000000  \n",
            "max     10.000000    1.000000  \n"
          ]
        }
      ]
    },
    {
      "cell_type": "code",
      "source": [
        "print(df.loc[10])\n",
        "\n",
        "# Print the shape of the dataset\n",
        "print(df.shape)\n",
        "\n",
        "# Check for non-numeric values in the DataFrame\n",
        "print(df.apply(lambda s: pd.to_numeric(s, errors='coerce')).isnull().sum())\n",
        "\n",
        "# Replace '?' with NaN\n",
        "df.replace('?', np.nan, inplace=True)\n",
        "\n",
        "# Option 1: Drop rows with missing values\n",
        "df.dropna(inplace=True)\n",
        "\n",
        "# Option 2: Fill missing values (e.g., with the mean)\n",
        "# df.fillna(df.mean(), inplace=True)\n",
        "\n",
        "X=np.array(df.drop(['classes'],axis=1))\n",
        "y=np.array(df['classes'])\n"
      ],
      "metadata": {
        "colab": {
          "base_uri": "https://localhost:8080/"
        },
        "id": "Onv_F46-WS_1",
        "outputId": "832dabc5-3156-4d05-fc7b-3941cf2a1fe0"
      },
      "execution_count": null,
      "outputs": [
        {
          "output_type": "stream",
          "name": "stdout",
          "text": [
            "id                        1035283\n",
            "clump_thickness                 1\n",
            "unif_cell_size                  1\n",
            "unif_cell_shape                 1\n",
            "marg_adhesion                   1\n",
            "single_epith_cell_size          1\n",
            "bare_nuclei                     1\n",
            "bland_chrom                     3\n",
            "norm_nucleoli                   1\n",
            "mitoses                         1\n",
            "classes                         0\n",
            "Name: 10, dtype: object\n",
            "(699, 11)\n",
            "id                         0\n",
            "clump_thickness            0\n",
            "unif_cell_size             0\n",
            "unif_cell_shape            0\n",
            "marg_adhesion              0\n",
            "single_epith_cell_size     0\n",
            "bare_nuclei               16\n",
            "bland_chrom                0\n",
            "norm_nucleoli              0\n",
            "mitoses                    0\n",
            "classes                    0\n",
            "dtype: int64\n"
          ]
        }
      ]
    },
    {
      "cell_type": "code",
      "source": [
        "X=np.array(df.drop(['classes'],axis=1))\n",
        "y=np.array(df['classes'])"
      ],
      "metadata": {
        "id": "OD17pp60UXF_"
      },
      "execution_count": null,
      "outputs": []
    },
    {
      "cell_type": "code",
      "source": [
        "# Splitting the dataset into the Training set and Test set\n",
        "\n",
        "from sklearn.model_selection import train_test_split\n",
        "X_train, X_test, y_train, y_test = train_test_split(X, y, test_size = 0.35, random_state = 42)\n"
      ],
      "metadata": {
        "id": "TUJED7XDVD-u"
      },
      "execution_count": null,
      "outputs": []
    },
    {
      "cell_type": "code",
      "source": [],
      "metadata": {
        "id": "ex95yK24eC_k"
      },
      "execution_count": null,
      "outputs": []
    },
    {
      "cell_type": "code",
      "source": [
        "# Feature Scaling --- by STANDARD SCALER\n",
        "\n",
        "from sklearn.preprocessing import StandardScaler\n",
        "sc = StandardScaler()\n",
        "X_train = sc.fit_transform(X_train)\n",
        "X_test = sc.transform(X_test)"
      ],
      "metadata": {
        "id": "hhmk71ZTfBtT"
      },
      "execution_count": null,
      "outputs": []
    },
    {
      "cell_type": "markdown",
      "source": [
        "# **RANDOM FOREST**"
      ],
      "metadata": {
        "id": "MQN-8dmGj0ru"
      }
    },
    {
      "cell_type": "code",
      "source": [
        "from sklearn.ensemble import RandomForestClassifier\n",
        "from sklearn.metrics import accuracy_score, confusion_matrix, roc_auc_score\n",
        "# Train model\n",
        "model = RandomForestClassifier(random_state=42)\n",
        "model.fit(X_train, y_train)\n",
        "\n",
        "# Evaluate model\n",
        "y_pred = model.predict(X_test)\n",
        "accuracy = accuracy_score(y_test, y_pred)\n",
        "conf_matrix = confusion_matrix(y_test, y_pred)\n",
        "roc_auc = roc_auc_score(y_test, y_pred)\n",
        "\n",
        "print(f\"Accuracy: {accuracy}\")\n",
        "print(f\"Confusion Matrix:\\n{conf_matrix}\")\n",
        "print(f\"ROC AUC Score: {roc_auc}\")"
      ],
      "metadata": {
        "colab": {
          "base_uri": "https://localhost:8080/"
        },
        "id": "4dTIu0eZf8fn",
        "outputId": "236f2f65-6870-4163-cb2f-1e9f10cd10a7"
      },
      "execution_count": null,
      "outputs": [
        {
          "output_type": "stream",
          "name": "stdout",
          "text": [
            "Accuracy: 0.975\n",
            "Confusion Matrix:\n",
            "[[149   2]\n",
            " [  4  85]]\n",
            "ROC AUC Score: 0.970905573331349\n"
          ]
        }
      ]
    },
    {
      "cell_type": "markdown",
      "source": [],
      "metadata": {
        "id": "Zgpz57lrj54v"
      }
    },
    {
      "cell_type": "markdown",
      "source": [
        "# **SUPPORT VECTOR MACHINE**"
      ],
      "metadata": {
        "id": "wQnhOFKqlHLg"
      }
    },
    {
      "cell_type": "code",
      "source": [
        "from sklearn.svm import SVC\n",
        "from sklearn.metrics import accuracy_score, confusion_matrix, roc_auc_score\n",
        "# Train model\n",
        "model1 = SVC(random_state=40)\n",
        "model1.fit(X_train, y_train)\n",
        "\n",
        "# Evaluate model\n",
        "y_pred = model1.predict(X_test)\n",
        "accuracy = accuracy_score(y_test, y_pred)\n",
        "conf_matrix = confusion_matrix(y_test, y_pred)\n",
        "roc_auc = roc_auc_score(y_test, y_pred)\n",
        "\n",
        "print(f\"Accuracy: {accuracy}\")\n",
        "print(f\"Confusion Matrix:\\n{conf_matrix}\")\n",
        "print(f\"ROC AUC Score: {roc_auc}\")"
      ],
      "metadata": {
        "colab": {
          "base_uri": "https://localhost:8080/"
        },
        "id": "29_AiFGxgdBM",
        "outputId": "75df90b0-da2e-4d87-e6ac-0dbf307f1918"
      },
      "execution_count": null,
      "outputs": [
        {
          "output_type": "stream",
          "name": "stdout",
          "text": [
            "Accuracy: 0.9583333333333334\n",
            "Confusion Matrix:\n",
            "[[147   4]\n",
            " [  6  83]]\n",
            "ROC AUC Score: 0.9530471017188777\n"
          ]
        }
      ]
    },
    {
      "cell_type": "code",
      "source": [
        "\n",
        "\n"
      ],
      "metadata": {
        "id": "JOIKl5Azg2L7"
      },
      "execution_count": null,
      "outputs": []
    },
    {
      "cell_type": "code",
      "source": [],
      "metadata": {
        "id": "slOOx9Q5nieE"
      },
      "execution_count": null,
      "outputs": []
    },
    {
      "cell_type": "code",
      "source": [
        "11\n",
        "1"
      ],
      "metadata": {
        "id": "MDoJUm0wnt-B"
      },
      "execution_count": null,
      "outputs": []
    }
  ]
}